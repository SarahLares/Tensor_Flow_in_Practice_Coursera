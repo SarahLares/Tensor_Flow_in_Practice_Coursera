{
  "nbformat": 4,
  "nbformat_minor": 0,
  "metadata": {
    "coursera": {
      "course_slug": "introduction-tensorflow",
      "graded_item_id": "1kAlw",
      "launcher_item_id": "PNLYD"
    },
    "kernelspec": {
      "display_name": "Python 3",
      "language": "python",
      "name": "python3"
    },
    "language_info": {
      "codemirror_mode": {
        "name": "ipython",
        "version": 3
      },
      "file_extension": ".py",
      "mimetype": "text/x-python",
      "name": "python",
      "nbconvert_exporter": "python",
      "pygments_lexer": "ipython3",
      "version": "3.6.8"
    },
    "colab": {
      "name": "utf-8''Exercise4-Question.ipynb",
      "provenance": [],
      "include_colab_link": true
    }
  },
  "cells": [
    {
      "cell_type": "markdown",
      "metadata": {
        "id": "view-in-github",
        "colab_type": "text"
      },
      "source": [
        "<a href=\"https://colab.research.google.com/github/SarahLares/Tensor_Flow_in_Practice_Coursera/blob/master/Exercise4_Question.ipynb\" target=\"_parent\"><img src=\"https://colab.research.google.com/assets/colab-badge.svg\" alt=\"Open In Colab\"/></a>"
      ]
    },
    {
      "cell_type": "markdown",
      "metadata": {
        "colab_type": "text",
        "id": "UncprnB0ymAE"
      },
      "source": [
        "Below is code with a link to a happy or sad dataset which contains 80 images, 40 happy and 40 sad. \n",
        "Create a convolutional neural network that trains to 100% accuracy on these images,  which cancels training upon hitting training accuracy of >.999\n",
        "\n",
        "Hint -- it will work best with 3 convolutional layers."
      ]
    },
    {
      "cell_type": "code",
      "metadata": {
        "id": "ALJ7noN8Q7Fa",
        "colab_type": "code",
        "colab": {}
      },
      "source": [
        "import tensorflow as tf\n",
        "import os\n",
        "import zipfile\n",
        "from os import path, getcwd, chdir\n",
        "\n",
        "# DO NOT CHANGE THE LINE BELOW. If you are developing in a local\n",
        "# environment, then grab happy-or-sad.zip from the Coursera Jupyter Notebook\n",
        "# and place it inside a local folder and edit the path to that location\n",
        "path = f\"{getcwd()}/../tmp2/happy-or-sad.zip\"\n",
        "\n",
        "zip_ref = zipfile.ZipFile(path, 'r')\n",
        "zip_ref.extractall(\"/tmp/h-or-s\")\n",
        "zip_ref.close()"
      ],
      "execution_count": null,
      "outputs": []
    },
    {
      "cell_type": "code",
      "metadata": {
        "id": "2kX2OXACQ7G-",
        "colab_type": "code",
        "colab": {}
      },
      "source": [
        "# GRADED FUNCTION: train_happy_sad_model\n",
        "def train_happy_sad_model():\n",
        "    # Please write your code only where you are indicated.\n",
        "    # please do not remove # model fitting inline comments.\n",
        "\n",
        "    DESIRED_ACCURACY = 0.999\n",
        "\n",
        "    class myCallback(tf.keras.callbacks.Callback ): # your code\n",
        "         # Your Code\n",
        "            def on_epoch_end(self, epoch, logs={}):\n",
        "                if logs.get('acc')>DESIRED_ACCURACY:\n",
        "                    print(\"\\nReached {} % accuracy so cancelling training!\".format(DESIRED_ACCURACY))\n",
        "                    self.model.stop_training = True\n",
        "\n",
        "    callbacks = myCallback()\n",
        "    \n",
        "    # This Code Block should Define and Compile the Model. Please assume the images are 150 X 150 in your implementation.\n",
        "    model = tf.keras.models.Sequential([\n",
        "        # Your Code Here\n",
        "            tf.keras.layers.Conv2D(16,(3,3),activation='relu',input_shape = (150, 150, 3)),\n",
        "            tf.keras.layers.MaxPooling2D(2,2),\n",
        "        \n",
        "            tf.keras.layers.Conv2D(32,(3,3),activation='relu'),\n",
        "            tf.keras.layers.MaxPooling2D(2,2), \n",
        "        \n",
        "            tf.keras.layers.Conv2D(64,(3,3),activation='relu'),\n",
        "            tf.keras.layers.MaxPooling2D(2,2),\n",
        "        \n",
        "            tf.keras.layers.Flatten(),\n",
        "        \n",
        "            tf.keras.layers.Dense(512, activation='relu'),\n",
        "            tf.keras.layers.Dense(1, activation='sigmoid')\n",
        "    ])\n",
        "\n",
        "    from tensorflow.keras.optimizers import RMSprop\n",
        "\n",
        "    model.compile(# Your Code Here #\n",
        "              loss='binary_crossentropy',\n",
        "              optimizer=RMSprop(lr=0.001),\n",
        "              metrics=['acc']\n",
        "    )\n",
        "        \n",
        "\n",
        "    # This code block should create an instance of an ImageDataGenerator called train_datagen \n",
        "    # And a train_generator by calling train_datagen.flow_from_directory\n",
        "\n",
        "    from tensorflow.keras.preprocessing.image import ImageDataGenerator\n",
        "\n",
        "    train_datagen = ImageDataGenerator(rescale=1/255) # Your Code Here\n",
        "\n",
        "    # Please use a target_size of 150 X 150.\n",
        "    train_generator = train_datagen.flow_from_directory(\n",
        "        # Your Code Here\n",
        "            \"/tmp/h-or-s\",\n",
        "            target_size = (150,150),\n",
        "            batch_size = 32,\n",
        "            class_mode='binary'        \n",
        "    )\n",
        "    # Expected output: 'Found 80 images belonging to 2 classes'\n",
        "\n",
        "    # This code block should call model.fit_generator and train for\n",
        "    # a number of epochs.\n",
        "    # model fitting\n",
        "    history = model.fit_generator(\n",
        "          # Your Code Here\n",
        "          train_generator,\n",
        "          steps_per_epoch=8,  \n",
        "          epochs=15,\n",
        "          verbose=1,\n",
        "          callbacks = [callbacks]\n",
        ")\n",
        "    # model fitting\n",
        "    return history.history['acc'][-1]"
      ],
      "execution_count": null,
      "outputs": []
    },
    {
      "cell_type": "code",
      "metadata": {
        "id": "FfYozxEyQ7H9",
        "colab_type": "code",
        "colab": {},
        "outputId": "180b7d7c-2c0b-404b-c077-ba9e197cc78b"
      },
      "source": [
        "# The Expected output: \"Reached 99.9% accuracy so cancelling training!\"\"\n",
        "train_happy_sad_model()"
      ],
      "execution_count": null,
      "outputs": [
        {
          "output_type": "stream",
          "text": [
            "Found 80 images belonging to 2 classes.\n",
            "Epoch 1/15\n",
            "8/8 [==============================] - 2s 312ms/step - loss: 1.3218 - acc: 0.5865\n",
            "Epoch 2/15\n",
            "8/8 [==============================] - 1s 162ms/step - loss: 0.5216 - acc: 0.7411\n",
            "Epoch 3/15\n",
            "8/8 [==============================] - 1s 138ms/step - loss: 0.3669 - acc: 0.8029\n",
            "Epoch 4/15\n",
            "8/8 [==============================] - 1s 139ms/step - loss: 0.1163 - acc: 0.9712\n",
            "Epoch 5/15\n",
            "8/8 [==============================] - 1s 149ms/step - loss: 0.1507 - acc: 0.9152\n",
            "Epoch 6/15\n",
            "8/8 [==============================] - 1s 127ms/step - loss: 0.0450 - acc: 0.9952\n",
            "Epoch 7/15\n",
            "7/8 [=========================>....] - ETA: 0s - loss: 0.0212 - acc: 1.0000\n",
            "Reached 0.999 % accuracy so cancelling training!\n",
            "8/8 [==============================] - 1s 162ms/step - loss: 0.0194 - acc: 1.0000\n"
          ],
          "name": "stdout"
        },
        {
          "output_type": "execute_result",
          "data": {
            "text/plain": [
              "1.0"
            ]
          },
          "metadata": {
            "tags": []
          },
          "execution_count": 11
        }
      ]
    },
    {
      "cell_type": "code",
      "metadata": {
        "id": "0bHGiUxTQ7Iz",
        "colab_type": "code",
        "colab": {}
      },
      "source": [
        "# Now click the 'Submit Assignment' button above.\n",
        "# Once that is complete, please run the following two cells to save your work and close the notebook"
      ],
      "execution_count": null,
      "outputs": []
    },
    {
      "cell_type": "code",
      "metadata": {
        "id": "SwELkTsxQ7KG",
        "colab_type": "code",
        "colab": {}
      },
      "source": [
        "%%javascript\n",
        "<!-- Save the notebook -->\n",
        "IPython.notebook.save_checkpoint();"
      ],
      "execution_count": null,
      "outputs": []
    },
    {
      "cell_type": "code",
      "metadata": {
        "id": "QQQ8k1YXQ7LI",
        "colab_type": "code",
        "colab": {}
      },
      "source": [
        "%%javascript\n",
        "IPython.notebook.session.delete();\n",
        "window.onbeforeunload = null\n",
        "setTimeout(function() { window.close(); }, 1000);"
      ],
      "execution_count": null,
      "outputs": []
    }
  ]
}